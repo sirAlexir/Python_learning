{
  "nbformat": 4,
  "nbformat_minor": 0,
  "metadata": {
    "colab": {
      "provenance": []
    },
    "kernelspec": {
      "name": "python3",
      "display_name": "Python 3"
    },
    "language_info": {
      "name": "python"
    }
  },
  "cells": [
    {
      "cell_type": "code",
      "source": [
        "sum = 0\n",
        "num=[7,5,8,11,2,5,4,2,2,2]\n",
        "for i in num:\n",
        "  if i%2 == 0:\n",
        "    sum+=i\n",
        "\n",
        "print(sum)\n",
        "\n",
        "any(num)"
      ],
      "metadata": {
        "colab": {
          "base_uri": "https://localhost:8080/"
        },
        "id": "ExWqCB92lmi9",
        "outputId": "1d9f63e3-7eaa-42fc-ff95-9104234b4e1e"
      },
      "execution_count": null,
      "outputs": [
        {
          "output_type": "stream",
          "name": "stdout",
          "text": [
            "20\n"
          ]
        },
        {
          "output_type": "execute_result",
          "data": {
            "text/plain": [
              "True"
            ]
          },
          "metadata": {},
          "execution_count": 10
        }
      ]
    }
  ]
}